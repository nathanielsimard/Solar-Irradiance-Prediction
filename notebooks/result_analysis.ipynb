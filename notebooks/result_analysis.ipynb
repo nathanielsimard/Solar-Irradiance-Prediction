{
 "cells": [
  {
   "cell_type": "code",
   "execution_count": 1,
   "metadata": {},
   "outputs": [],
   "source": [
    "import pickle\n",
    "file = open('split/test_set.pkl', 'rb')\n",
    "data = pickle.load(file)\n",
    "file.close()"
   ]
  },
  {
   "cell_type": "code",
   "execution_count": 2,
   "metadata": {},
   "outputs": [],
   "source": [
    "file = open('timestamp_log.pkl', 'rb')\n",
    "timestamp_log = pickle.load(file)\n",
    "file.close()"
   ]
  },
  {
   "cell_type": "code",
   "execution_count": 3,
   "metadata": {},
   "outputs": [
    {
     "data": {
      "text/html": [
       "<div>\n",
       "<style scoped>\n",
       "    .dataframe tbody tr th:only-of-type {\n",
       "        vertical-align: middle;\n",
       "    }\n",
       "\n",
       "    .dataframe tbody tr th {\n",
       "        vertical-align: top;\n",
       "    }\n",
       "\n",
       "    .dataframe thead th {\n",
       "        text-align: right;\n",
       "    }\n",
       "</style>\n",
       "<table border=\"1\" class=\"dataframe\">\n",
       "  <thead>\n",
       "    <tr style=\"text-align: right;\">\n",
       "      <th></th>\n",
       "      <th>0</th>\n",
       "    </tr>\n",
       "  </thead>\n",
       "  <tbody>\n",
       "    <tr>\n",
       "      <th>0</th>\n",
       "      <td>2015-01-01 00:00:00</td>\n",
       "    </tr>\n",
       "    <tr>\n",
       "      <th>1</th>\n",
       "      <td>2015-01-01 00:15:00</td>\n",
       "    </tr>\n",
       "    <tr>\n",
       "      <th>2</th>\n",
       "      <td>2015-01-01 00:30:00</td>\n",
       "    </tr>\n",
       "    <tr>\n",
       "      <th>3</th>\n",
       "      <td>2015-01-01 00:45:00</td>\n",
       "    </tr>\n",
       "    <tr>\n",
       "      <th>4</th>\n",
       "      <td>2015-01-01 01:00:00</td>\n",
       "    </tr>\n",
       "    <tr>\n",
       "      <th>...</th>\n",
       "      <td>...</td>\n",
       "    </tr>\n",
       "    <tr>\n",
       "      <th>35035</th>\n",
       "      <td>2015-12-31 22:45:00</td>\n",
       "    </tr>\n",
       "    <tr>\n",
       "      <th>35036</th>\n",
       "      <td>2015-12-31 23:00:00</td>\n",
       "    </tr>\n",
       "    <tr>\n",
       "      <th>35037</th>\n",
       "      <td>2015-12-31 23:15:00</td>\n",
       "    </tr>\n",
       "    <tr>\n",
       "      <th>35038</th>\n",
       "      <td>2015-12-31 23:30:00</td>\n",
       "    </tr>\n",
       "    <tr>\n",
       "      <th>35039</th>\n",
       "      <td>2015-12-31 23:45:00</td>\n",
       "    </tr>\n",
       "  </tbody>\n",
       "</table>\n",
       "<p>35040 rows × 1 columns</p>\n",
       "</div>"
      ],
      "text/plain": [
       "                        0\n",
       "0     2015-01-01 00:00:00\n",
       "1     2015-01-01 00:15:00\n",
       "2     2015-01-01 00:30:00\n",
       "3     2015-01-01 00:45:00\n",
       "4     2015-01-01 01:00:00\n",
       "...                   ...\n",
       "35035 2015-12-31 22:45:00\n",
       "35036 2015-12-31 23:00:00\n",
       "35037 2015-12-31 23:15:00\n",
       "35038 2015-12-31 23:30:00\n",
       "35039 2015-12-31 23:45:00\n",
       "\n",
       "[35040 rows x 1 columns]"
      ]
     },
     "execution_count": 3,
     "metadata": {},
     "output_type": "execute_result"
    }
   ],
   "source": [
    "import pandas as pd\n",
    "pd.DataFrame(data)"
   ]
  },
  {
   "cell_type": "code",
   "execution_count": null,
   "metadata": {},
   "outputs": [],
   "source": []
  },
  {
   "cell_type": "code",
   "execution_count": 5,
   "metadata": {},
   "outputs": [],
   "source": [
    "meta = pd.DataFrame.from_dict(timestamp_log, orient='index', dtype=None, columns=None)"
   ]
  },
  {
   "cell_type": "code",
   "execution_count": 6,
   "metadata": {},
   "outputs": [
    {
     "data": {
      "text/plain": [
       "7665.0"
      ]
     },
     "execution_count": 6,
     "metadata": {},
     "output_type": "execute_result"
    }
   ],
   "source": [
    "#Number of expected batches for evaluation. \n",
    "len(data)/32 * 7"
   ]
  },
  {
   "cell_type": "code",
   "execution_count": 7,
   "metadata": {},
   "outputs": [
    {
     "data": {
      "text/plain": [
       "245280"
      ]
     },
     "execution_count": 7,
     "metadata": {},
     "output_type": "execute_result"
    }
   ],
   "source": [
    "#Number of expected datapoints:\n",
    "len(data)*7"
   ]
  },
  {
   "cell_type": "code",
   "execution_count": 8,
   "metadata": {},
   "outputs": [
    {
     "data": {
      "text/plain": [
       "0.33920417482061316"
      ]
     },
     "execution_count": 8,
     "metadata": {},
     "output_type": "execute_result"
    }
   ],
   "source": [
    "2600/7665"
   ]
  },
  {
   "cell_type": "code",
   "execution_count": 9,
   "metadata": {},
   "outputs": [],
   "source": [
    "import numpy as np\n",
    "res = np.load(\"epoch_results.npy\")\n",
    "#np.save(\"valid_results_conv3d_normalized_epoch4.npy\",res)"
   ]
  },
  {
   "cell_type": "code",
   "execution_count": 10,
   "metadata": {},
   "outputs": [],
   "source": [
    "MIN=-22\n",
    "res2 = (res*1300)+MIN\n",
    "x = pd.DataFrame(res2)"
   ]
  },
  {
   "cell_type": "code",
   "execution_count": 11,
   "metadata": {},
   "outputs": [],
   "source": [
    "colonnes = {0:\"out_ghi0\",1:\"out_ghi1\",2:\"out_ghi3\",3:\"out_ghi6\",\n",
    "           4:\"tar_ghi0\",5:\"tar_ghi1\",6:\"tar_ghi3\",7:\"tar_ghi6\"}"
   ]
  },
  {
   "cell_type": "code",
   "execution_count": 12,
   "metadata": {},
   "outputs": [
    {
     "data": {
      "text/html": [
       "<div>\n",
       "<style scoped>\n",
       "    .dataframe tbody tr th:only-of-type {\n",
       "        vertical-align: middle;\n",
       "    }\n",
       "\n",
       "    .dataframe tbody tr th {\n",
       "        vertical-align: top;\n",
       "    }\n",
       "\n",
       "    .dataframe thead th {\n",
       "        text-align: right;\n",
       "    }\n",
       "</style>\n",
       "<table border=\"1\" class=\"dataframe\">\n",
       "  <thead>\n",
       "    <tr style=\"text-align: right;\">\n",
       "      <th></th>\n",
       "      <th>out_ghi0</th>\n",
       "      <th>out_ghi1</th>\n",
       "      <th>out_ghi3</th>\n",
       "      <th>out_ghi6</th>\n",
       "      <th>tar_ghi0</th>\n",
       "      <th>tar_ghi1</th>\n",
       "      <th>tar_ghi3</th>\n",
       "      <th>tar_ghi6</th>\n",
       "    </tr>\n",
       "  </thead>\n",
       "  <tbody>\n",
       "    <tr>\n",
       "      <th>0</th>\n",
       "      <td>169.342182</td>\n",
       "      <td>367.085603</td>\n",
       "      <td>716.707566</td>\n",
       "      <td>890.917101</td>\n",
       "      <td>154.661523</td>\n",
       "      <td>368.355405</td>\n",
       "      <td>748.471728</td>\n",
       "      <td>979.039726</td>\n",
       "    </tr>\n",
       "    <tr>\n",
       "      <th>1</th>\n",
       "      <td>129.436921</td>\n",
       "      <td>253.159954</td>\n",
       "      <td>373.824486</td>\n",
       "      <td>204.420926</td>\n",
       "      <td>22.553421</td>\n",
       "      <td>46.462256</td>\n",
       "      <td>83.654499</td>\n",
       "      <td>86.858769</td>\n",
       "    </tr>\n",
       "    <tr>\n",
       "      <th>2</th>\n",
       "      <td>25.414893</td>\n",
       "      <td>167.809993</td>\n",
       "      <td>379.782581</td>\n",
       "      <td>344.055512</td>\n",
       "      <td>3.834056</td>\n",
       "      <td>30.061155</td>\n",
       "      <td>61.377796</td>\n",
       "      <td>58.846346</td>\n",
       "    </tr>\n",
       "    <tr>\n",
       "      <th>3</th>\n",
       "      <td>13.384711</td>\n",
       "      <td>155.924041</td>\n",
       "      <td>421.791443</td>\n",
       "      <td>687.988064</td>\n",
       "      <td>6.105697</td>\n",
       "      <td>45.496306</td>\n",
       "      <td>258.943725</td>\n",
       "      <td>546.915471</td>\n",
       "    </tr>\n",
       "    <tr>\n",
       "      <th>4</th>\n",
       "      <td>301.549423</td>\n",
       "      <td>142.945769</td>\n",
       "      <td>9.446236</td>\n",
       "      <td>-2.211470</td>\n",
       "      <td>296.535669</td>\n",
       "      <td>130.832638</td>\n",
       "      <td>-3.120753</td>\n",
       "      <td>-3.353912</td>\n",
       "    </tr>\n",
       "    <tr>\n",
       "      <th>...</th>\n",
       "      <td>...</td>\n",
       "      <td>...</td>\n",
       "      <td>...</td>\n",
       "      <td>...</td>\n",
       "      <td>...</td>\n",
       "      <td>...</td>\n",
       "      <td>...</td>\n",
       "      <td>...</td>\n",
       "    </tr>\n",
       "    <tr>\n",
       "      <th>108648</th>\n",
       "      <td>55.932464</td>\n",
       "      <td>11.304323</td>\n",
       "      <td>7.724032</td>\n",
       "      <td>5.945107</td>\n",
       "      <td>25.251412</td>\n",
       "      <td>-0.909070</td>\n",
       "      <td>-1.695151</td>\n",
       "      <td>-2.594479</td>\n",
       "    </tr>\n",
       "    <tr>\n",
       "      <th>108649</th>\n",
       "      <td>114.988594</td>\n",
       "      <td>42.454562</td>\n",
       "      <td>3.342545</td>\n",
       "      <td>5.489712</td>\n",
       "      <td>23.299534</td>\n",
       "      <td>16.511266</td>\n",
       "      <td>-2.454584</td>\n",
       "      <td>-2.794331</td>\n",
       "    </tr>\n",
       "    <tr>\n",
       "      <th>108650</th>\n",
       "      <td>167.949661</td>\n",
       "      <td>71.468076</td>\n",
       "      <td>3.925027</td>\n",
       "      <td>10.994601</td>\n",
       "      <td>249.590695</td>\n",
       "      <td>57.074332</td>\n",
       "      <td>-2.667758</td>\n",
       "      <td>-2.727713</td>\n",
       "    </tr>\n",
       "    <tr>\n",
       "      <th>108651</th>\n",
       "      <td>155.595985</td>\n",
       "      <td>127.077801</td>\n",
       "      <td>39.007886</td>\n",
       "      <td>3.749918</td>\n",
       "      <td>338.058054</td>\n",
       "      <td>178.870137</td>\n",
       "      <td>69.072043</td>\n",
       "      <td>-3.214017</td>\n",
       "    </tr>\n",
       "    <tr>\n",
       "      <th>108652</th>\n",
       "      <td>221.033622</td>\n",
       "      <td>252.924570</td>\n",
       "      <td>200.677788</td>\n",
       "      <td>-2.604044</td>\n",
       "      <td>449.641436</td>\n",
       "      <td>227.906866</td>\n",
       "      <td>248.225042</td>\n",
       "      <td>-1.761767</td>\n",
       "    </tr>\n",
       "  </tbody>\n",
       "</table>\n",
       "<p>108653 rows × 8 columns</p>\n",
       "</div>"
      ],
      "text/plain": [
       "          out_ghi0    out_ghi1    out_ghi3    out_ghi6    tar_ghi0  \\\n",
       "0       169.342182  367.085603  716.707566  890.917101  154.661523   \n",
       "1       129.436921  253.159954  373.824486  204.420926   22.553421   \n",
       "2        25.414893  167.809993  379.782581  344.055512    3.834056   \n",
       "3        13.384711  155.924041  421.791443  687.988064    6.105697   \n",
       "4       301.549423  142.945769    9.446236   -2.211470  296.535669   \n",
       "...            ...         ...         ...         ...         ...   \n",
       "108648   55.932464   11.304323    7.724032    5.945107   25.251412   \n",
       "108649  114.988594   42.454562    3.342545    5.489712   23.299534   \n",
       "108650  167.949661   71.468076    3.925027   10.994601  249.590695   \n",
       "108651  155.595985  127.077801   39.007886    3.749918  338.058054   \n",
       "108652  221.033622  252.924570  200.677788   -2.604044  449.641436   \n",
       "\n",
       "          tar_ghi1    tar_ghi3    tar_ghi6  \n",
       "0       368.355405  748.471728  979.039726  \n",
       "1        46.462256   83.654499   86.858769  \n",
       "2        30.061155   61.377796   58.846346  \n",
       "3        45.496306  258.943725  546.915471  \n",
       "4       130.832638   -3.120753   -3.353912  \n",
       "...            ...         ...         ...  \n",
       "108648   -0.909070   -1.695151   -2.594479  \n",
       "108649   16.511266   -2.454584   -2.794331  \n",
       "108650   57.074332   -2.667758   -2.727713  \n",
       "108651  178.870137   69.072043   -3.214017  \n",
       "108652  227.906866  248.225042   -1.761767  \n",
       "\n",
       "[108653 rows x 8 columns]"
      ]
     },
     "execution_count": 12,
     "metadata": {},
     "output_type": "execute_result"
    }
   ],
   "source": [
    "données = x[x[0]!=MIN].rename(columns=colonnes)\n",
    "données"
   ]
  },
  {
   "cell_type": "code",
   "execution_count": null,
   "metadata": {},
   "outputs": [],
   "source": []
  },
  {
   "cell_type": "code",
   "execution_count": 13,
   "metadata": {},
   "outputs": [],
   "source": [
    "def rmse(données):\n",
    "    rmse_t0 = np.sqrt(((données[\"out_ghi0\"] - données[\"tar_ghi0\"])**2).sum()/len(données))\n",
    "    rmse_t1 = np.sqrt(((données[\"out_ghi1\"] - données[\"tar_ghi1\"])**2).sum()/len(données))\n",
    "    rmse_t3 = np.sqrt(((données[\"out_ghi3\"] - données[\"tar_ghi3\"])**2).sum()/len(données))\n",
    "    rmse_t6 = np.sqrt(((données[\"out_ghi6\"] - données[\"tar_ghi6\"])**2).sum()/len(données))\n",
    "    print(rmse_t0, rmse_t1, rmse_t3, rmse_t6)\n",
    "    print(\"mean=\", np.mean([rmse_t0, rmse_t1, rmse_t3, rmse_t6]))"
   ]
  },
  {
   "cell_type": "code",
   "execution_count": 14,
   "metadata": {},
   "outputs": [
    {
     "name": "stdout",
     "output_type": "stream",
     "text": [
      "94.196803589831 106.8453808211193 123.95675151067603 115.53846004030994\n",
      "mean= 110.13434899048407\n"
     ]
    }
   ],
   "source": [
    "rmse(données)"
   ]
  },
  {
   "cell_type": "code",
   "execution_count": 16,
   "metadata": {},
   "outputs": [
    {
     "data": {
      "text/html": [
       "<div>\n",
       "<style scoped>\n",
       "    .dataframe tbody tr th:only-of-type {\n",
       "        vertical-align: middle;\n",
       "    }\n",
       "\n",
       "    .dataframe tbody tr th {\n",
       "        vertical-align: top;\n",
       "    }\n",
       "\n",
       "    .dataframe thead th {\n",
       "        text-align: right;\n",
       "    }\n",
       "</style>\n",
       "<table border=\"1\" class=\"dataframe\">\n",
       "  <thead>\n",
       "    <tr style=\"text-align: right;\">\n",
       "      <th></th>\n",
       "      <th>0</th>\n",
       "      <th>1</th>\n",
       "      <th>2</th>\n",
       "      <th>3</th>\n",
       "      <th>4</th>\n",
       "      <th>5</th>\n",
       "      <th>6</th>\n",
       "      <th>7</th>\n",
       "      <th>out_ghi0</th>\n",
       "      <th>out_ghi1</th>\n",
       "      <th>out_ghi3</th>\n",
       "      <th>out_ghi6</th>\n",
       "      <th>tar_ghi0</th>\n",
       "      <th>tar_ghi1</th>\n",
       "      <th>tar_ghi3</th>\n",
       "      <th>tar_ghi6</th>\n",
       "    </tr>\n",
       "  </thead>\n",
       "  <tbody>\n",
       "  </tbody>\n",
       "</table>\n",
       "</div>"
      ],
      "text/plain": [
       "Empty DataFrame\n",
       "Columns: [0, 1, 2, 3, 4, 5, 6, 7, out_ghi0, out_ghi1, out_ghi3, out_ghi6, tar_ghi0, tar_ghi1, tar_ghi3, tar_ghi6]\n",
       "Index: []"
      ]
     },
     "execution_count": 16,
     "metadata": {},
     "output_type": "execute_result"
    }
   ],
   "source": []
  },
  {
   "cell_type": "code",
   "execution_count": 36,
   "metadata": {},
   "outputs": [
    {
     "data": {
      "text/html": [
       "<div>\n",
       "<style scoped>\n",
       "    .dataframe tbody tr th:only-of-type {\n",
       "        vertical-align: middle;\n",
       "    }\n",
       "\n",
       "    .dataframe tbody tr th {\n",
       "        vertical-align: top;\n",
       "    }\n",
       "\n",
       "    .dataframe thead th {\n",
       "        text-align: right;\n",
       "    }\n",
       "</style>\n",
       "<table border=\"1\" class=\"dataframe\">\n",
       "  <thead>\n",
       "    <tr style=\"text-align: right;\">\n",
       "      <th></th>\n",
       "      <th>out_ghi0</th>\n",
       "      <th>out_ghi1</th>\n",
       "      <th>out_ghi3</th>\n",
       "      <th>out_ghi6</th>\n",
       "      <th>tar_ghi0</th>\n",
       "      <th>tar_ghi1</th>\n",
       "      <th>tar_ghi3</th>\n",
       "      <th>tar_ghi6</th>\n",
       "    </tr>\n",
       "  </thead>\n",
       "  <tbody>\n",
       "    <tr>\n",
       "      <th>0</th>\n",
       "      <td>169.342182</td>\n",
       "      <td>367.085603</td>\n",
       "      <td>716.707566</td>\n",
       "      <td>890.917101</td>\n",
       "      <td>154.661523</td>\n",
       "      <td>368.355405</td>\n",
       "      <td>748.471728</td>\n",
       "      <td>979.039726</td>\n",
       "    </tr>\n",
       "  </tbody>\n",
       "</table>\n",
       "</div>"
      ],
      "text/plain": [
       "     out_ghi0    out_ghi1    out_ghi3    out_ghi6    tar_ghi0    tar_ghi1  \\\n",
       "0  169.342182  367.085603  716.707566  890.917101  154.661523  368.355405   \n",
       "\n",
       "     tar_ghi3    tar_ghi6  \n",
       "0  748.471728  979.039726  "
      ]
     },
     "execution_count": 36,
     "metadata": {},
     "output_type": "execute_result"
    }
   ],
   "source": [
    "données.head(1)"
   ]
  },
  {
   "cell_type": "code",
   "execution_count": 33,
   "metadata": {},
   "outputs": [],
   "source": [
    "meta[\"cle\"] = (meta[4].round(4).astype(str) + \" - \" + meta[5].round(4).astype(str) + \" - \" + meta[6].round(4).astype(str)+ \" - \" + meta[7].round(4).astype(str))"
   ]
  },
  {
   "cell_type": "code",
   "execution_count": 37,
   "metadata": {},
   "outputs": [],
   "source": [
    "données[\"cle\"] = (données[\"tar_ghi0\"].round(4).astype(str) + \" - \" + données[\"tar_ghi1\"].round(4).astype(str) + \" - \" + données[\"tar_ghi3\"].round(4).astype(str)+ \" - \" + données[\"tar_ghi6\"].round(4).astype(str))"
   ]
  },
  {
   "cell_type": "code",
   "execution_count": 49,
   "metadata": {},
   "outputs": [
    {
     "data": {
      "text/html": [
       "<div>\n",
       "<style scoped>\n",
       "    .dataframe tbody tr th:only-of-type {\n",
       "        vertical-align: middle;\n",
       "    }\n",
       "\n",
       "    .dataframe tbody tr th {\n",
       "        vertical-align: top;\n",
       "    }\n",
       "\n",
       "    .dataframe thead th {\n",
       "        text-align: right;\n",
       "    }\n",
       "</style>\n",
       "<table border=\"1\" class=\"dataframe\">\n",
       "  <thead>\n",
       "    <tr style=\"text-align: right;\">\n",
       "      <th></th>\n",
       "      <th>cle_x</th>\n",
       "      <th>cle_y</th>\n",
       "    </tr>\n",
       "  </thead>\n",
       "  <tbody>\n",
       "    <tr>\n",
       "      <th>0</th>\n",
       "      <td>154.3733 - 368.2267 - 748.6267 - 979.3667</td>\n",
       "      <td>154.6615 - 368.3554 - 748.4717 - 979.0397</td>\n",
       "    </tr>\n",
       "    <tr>\n",
       "      <th>1</th>\n",
       "      <td>22.1667 - 46.0933 - 83.3133 - 86.52</td>\n",
       "      <td>22.5534 - 46.4623 - 83.6545 - 86.8588</td>\n",
       "    </tr>\n",
       "    <tr>\n",
       "      <th>2</th>\n",
       "      <td>3.4333 - 29.68 - 61.02 - 58.4867</td>\n",
       "      <td>3.8341 - 30.0612 - 61.3778 - 58.8463</td>\n",
       "    </tr>\n",
       "    <tr>\n",
       "      <th>3</th>\n",
       "      <td>5.7067 - 45.1267 - 258.7333 - 546.92</td>\n",
       "      <td>6.1057 - 45.4963 - 258.9437 - 546.9155</td>\n",
       "    </tr>\n",
       "    <tr>\n",
       "      <th>4</th>\n",
       "      <td>296.3533 - 130.5267 - -3.5267 - -3.76</td>\n",
       "      <td>296.5357 - 130.8326 - -3.1208 - -3.3539</td>\n",
       "    </tr>\n",
       "    <tr>\n",
       "      <th>...</th>\n",
       "      <td>...</td>\n",
       "      <td>...</td>\n",
       "    </tr>\n",
       "    <tr>\n",
       "      <th>108648</th>\n",
       "      <td>24.8667 - -1.3133 - -2.1 - -3.0</td>\n",
       "      <td>25.2514 - -0.9091 - -1.6952 - -2.5945</td>\n",
       "    </tr>\n",
       "    <tr>\n",
       "      <th>108649</th>\n",
       "      <td>22.9133 - 16.12 - -2.86 - -3.2</td>\n",
       "      <td>23.2995 - 16.5113 - -2.4546 - -2.7943</td>\n",
       "    </tr>\n",
       "    <tr>\n",
       "      <th>108650</th>\n",
       "      <td>249.3733 - 56.7133 - -3.0733 - -3.1333</td>\n",
       "      <td>249.5907 - 57.0743 - -2.6678 - -2.7277</td>\n",
       "    </tr>\n",
       "    <tr>\n",
       "      <th>108651</th>\n",
       "      <td>337.9067 - 178.6 - 68.72 - -3.62</td>\n",
       "      <td>338.0581 - 178.8701 - 69.072 - -3.214</td>\n",
       "    </tr>\n",
       "    <tr>\n",
       "      <th>108652</th>\n",
       "      <td>449.5733 - 227.6733 - 248.0067 - -2.1667</td>\n",
       "      <td>449.6414 - 227.9069 - 248.225 - -1.7618</td>\n",
       "    </tr>\n",
       "  </tbody>\n",
       "</table>\n",
       "<p>108653 rows × 2 columns</p>\n",
       "</div>"
      ],
      "text/plain": [
       "                                            cle_x  \\\n",
       "0       154.3733 - 368.2267 - 748.6267 - 979.3667   \n",
       "1             22.1667 - 46.0933 - 83.3133 - 86.52   \n",
       "2                3.4333 - 29.68 - 61.02 - 58.4867   \n",
       "3            5.7067 - 45.1267 - 258.7333 - 546.92   \n",
       "4           296.3533 - 130.5267 - -3.5267 - -3.76   \n",
       "...                                           ...   \n",
       "108648            24.8667 - -1.3133 - -2.1 - -3.0   \n",
       "108649             22.9133 - 16.12 - -2.86 - -3.2   \n",
       "108650     249.3733 - 56.7133 - -3.0733 - -3.1333   \n",
       "108651           337.9067 - 178.6 - 68.72 - -3.62   \n",
       "108652   449.5733 - 227.6733 - 248.0067 - -2.1667   \n",
       "\n",
       "                                            cle_y  \n",
       "0       154.6615 - 368.3554 - 748.4717 - 979.0397  \n",
       "1           22.5534 - 46.4623 - 83.6545 - 86.8588  \n",
       "2            3.8341 - 30.0612 - 61.3778 - 58.8463  \n",
       "3          6.1057 - 45.4963 - 258.9437 - 546.9155  \n",
       "4         296.5357 - 130.8326 - -3.1208 - -3.3539  \n",
       "...                                           ...  \n",
       "108648      25.2514 - -0.9091 - -1.6952 - -2.5945  \n",
       "108649      23.2995 - 16.5113 - -2.4546 - -2.7943  \n",
       "108650     249.5907 - 57.0743 - -2.6678 - -2.7277  \n",
       "108651      338.0581 - 178.8701 - 69.072 - -3.214  \n",
       "108652    449.6414 - 227.9069 - 248.225 - -1.7618  \n",
       "\n",
       "[108653 rows x 2 columns]"
      ]
     },
     "execution_count": 49,
     "metadata": {},
     "output_type": "execute_result"
    }
   ],
   "source": [
    "merged = pd.DataFrame.merge(meta.reset_index(), données, left_index=True, right_index=True)\n",
    "merged[[\"cle_x\", \"cle_y\"]]"
   ]
  },
  {
   "cell_type": "code",
   "execution_count": null,
   "metadata": {},
   "outputs": [],
   "source": []
  }
 ],
 "metadata": {
  "kernelspec": {
   "display_name": "Python 3.7.6 64-bit ('ift6159-project1': conda)",
   "language": "python",
   "name": "python37664bitift6159project1conda33faa7c113ec4f6cbf690d786cf4ecad"
  },
  "language_info": {
   "codemirror_mode": {
    "name": "ipython",
    "version": 3
   },
   "file_extension": ".py",
   "mimetype": "text/x-python",
   "name": "python",
   "nbconvert_exporter": "python",
   "pygments_lexer": "ipython3",
   "version": "3.7.6"
  }
 },
 "nbformat": 4,
 "nbformat_minor": 4
}
