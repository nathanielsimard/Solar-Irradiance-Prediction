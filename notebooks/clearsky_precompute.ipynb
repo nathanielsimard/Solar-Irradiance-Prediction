{
 "cells": [
  {
   "cell_type": "markdown",
   "metadata": {},
   "source": [
    "# Accélération du clearsky data generator\n",
    "Je vais tout simplement calculer toutes les valeurs possibles à l'initialisation pour les mettre en cache"
   ]
  },
  {
   "cell_type": "code",
   "execution_count": 1,
   "metadata": {},
   "outputs": [
    {
     "name": "stdout",
     "output_type": "stream",
     "text": [
      "/home/raphael/MILA/ift6759/Solar-Irradiance-Prediction\n"
     ]
    }
   ],
   "source": [
    "%cd /home/raphael/MILA/ift6759/Solar-Irradiance-Prediction\n",
    "# Il faut utiliser CD pour s'assurer de rouler dans la racine i.e. '/home/raphael/MILA/ift6759/Solar-Irradiance-Prediction'\n",
    "%pwd \n",
    "#%cd   #change to the dir you want \n",
    "from src.data import dataloader as dl\n",
    "from src.data import metadata as meta\n",
    "from src.data import config\n",
    "from src.data import image\n",
    "import pandas as pd\n",
    "import logging\n",
    "from pvlib.location import Location\n",
    "\n",
    "bnd_coordinates  = meta.Coordinates(40.05192, -88.37309, 230)\n",
    "logging.basicConfig(level=logging.ERROR)\n",
    "\n",
    "meta_config = config.read_configuration_file(\"tests/data/samples/train_config_raphael.json\") #Il faut ajuster les path ici!\n",
    "\n",
    "metadata = meta.MetadataLoader(dataframe=meta_config.catalog)\n",
    "#reader = image.ImageReader()\n",
    "config = {}\n",
    "config[\"LOCAL_PATH\"] = \"/home/raphael/MILA/ift6759/project1_data/hdf5v7_8bit/\"\n",
    "config[\"SKIP_MISSING\"] = True\n",
    "#dataloader = dl.DataLoader(reader, config)\n",
    "metaloader= metadata.load(meta.Station.BND,bnd_coordinates, target_datetimes=meta_config.target_datetimes, night_time=False, skip_missing=True)\n",
    "dataset = dl.create_dataset(metaloader, config)"
   ]
  },
  {
   "cell_type": "code",
   "execution_count": 2,
   "metadata": {},
   "outputs": [
    {
     "data": {
      "text/plain": [
       "DatetimeIndex(['2015-01-04 19:15:00', '2012-04-20 12:15:00',\n",
       "               '2011-12-08 07:00:00', '2011-11-06 04:00:00',\n",
       "               '2014-08-11 08:45:00', '2010-07-07 08:00:00',\n",
       "               '2014-09-20 23:45:00', '2013-11-19 20:00:00',\n",
       "               '2010-12-27 16:45:00', '2012-09-10 03:45:00',\n",
       "               ...\n",
       "               '2012-09-09 20:15:00', '2013-06-06 08:45:00',\n",
       "               '2014-06-08 20:00:00', '2015-09-22 11:30:00',\n",
       "               '2011-02-18 20:45:00', '2012-01-10 22:30:00',\n",
       "               '2012-06-28 20:15:00', '2014-07-10 00:15:00',\n",
       "               '2010-02-24 08:00:00', '2010-12-26 03:15:00'],\n",
       "              dtype='datetime64[ns]', length=189302, freq=None)"
      ]
     },
     "execution_count": 2,
     "metadata": {},
     "output_type": "execute_result"
    }
   ],
   "source": [
    "target_datetimes= pd.Series(meta_config.target_datetimes)\n",
    "pd.DatetimeIndex(target_datetimes)"
   ]
  },
  {
   "cell_type": "code",
   "execution_count": 3,
   "metadata": {},
   "outputs": [
    {
     "data": {
      "text/plain": [
       "{'LOCAL_PATH': '/home/raphael/MILA/ift6759/project1_data/hdf5v7_8bit/',\n",
       " 'SKIP_MISSING': True}"
      ]
     },
     "execution_count": 3,
     "metadata": {},
     "output_type": "execute_result"
    }
   ],
   "source": [
    "config"
   ]
  },
  {
   "cell_type": "code",
   "execution_count": 4,
   "metadata": {},
   "outputs": [],
   "source": [
    "coordinates = bnd_coordinates\n",
    "location = Location(\n",
    "                latitude=coordinates.latitude,\n",
    "                longitude=coordinates.longitude,\n",
    "                altitude=coordinates.altitude,\n",
    "            )"
   ]
  },
  {
   "cell_type": "code",
   "execution_count": 5,
   "metadata": {},
   "outputs": [
    {
     "data": {
      "text/plain": [
       "Location: \n",
       "  name: None\n",
       "  latitude: 40.05192\n",
       "  longitude: -88.37309\n",
       "  altitude: 230\n",
       "  tz: UTC"
      ]
     },
     "execution_count": 5,
     "metadata": {},
     "output_type": "execute_result"
    }
   ],
   "source": [
    "location"
   ]
  },
  {
   "cell_type": "code",
   "execution_count": 6,
   "metadata": {},
   "outputs": [],
   "source": [
    "clearsky_values = location.get_clearsky(pd.DatetimeIndex(target_datetimes))\n",
    "cache = {}"
   ]
  },
  {
   "cell_type": "code",
   "execution_count": 7,
   "metadata": {},
   "outputs": [],
   "source": [
    "def _generate_cache_key(timestamp, coordinates):\n",
    "    ts_str = str(timestamp)\n",
    "    return f\"{coordinates.latitude:.4f};{coordinates.longitude:.4f};{coordinates.altitude:.2f};{ts_str}\""
   ]
  },
  {
   "cell_type": "code",
   "execution_count": 52,
   "metadata": {},
   "outputs": [],
   "source": [
    "clearsky_values[\"cache_key\"] = clearsky_values.index.to_series().apply(_generate_cache_key, args= [coordinates])"
   ]
  },
  {
   "cell_type": "code",
   "execution_count": 53,
   "metadata": {},
   "outputs": [],
   "source": [
    "def _load_values_to_cache(row):\n",
    "    cache[row[\"cache_key\"]] = row[\"ghi\"]\n",
    "    "
   ]
  },
  {
   "cell_type": "code",
   "execution_count": 54,
   "metadata": {},
   "outputs": [
    {
     "data": {
      "text/plain": [
       "2015-01-04 19:15:00    None\n",
       "2012-04-20 12:15:00    None\n",
       "2011-12-08 07:00:00    None\n",
       "2011-11-06 04:00:00    None\n",
       "2014-08-11 08:45:00    None\n",
       "                       ... \n",
       "2012-01-10 22:30:00    None\n",
       "2012-06-28 20:15:00    None\n",
       "2014-07-10 00:15:00    None\n",
       "2010-02-24 08:00:00    None\n",
       "2010-12-26 03:15:00    None\n",
       "Length: 189302, dtype: object"
      ]
     },
     "execution_count": 54,
     "metadata": {},
     "output_type": "execute_result"
    }
   ],
   "source": [
    "clearsky_values.apply(_load_values_to_cache,axis=1)"
   ]
  },
  {
   "cell_type": "code",
   "execution_count": 55,
   "metadata": {},
   "outputs": [
    {
     "data": {
      "text/html": [
       "<div>\n",
       "<style scoped>\n",
       "    .dataframe tbody tr th:only-of-type {\n",
       "        vertical-align: middle;\n",
       "    }\n",
       "\n",
       "    .dataframe tbody tr th {\n",
       "        vertical-align: top;\n",
       "    }\n",
       "\n",
       "    .dataframe thead th {\n",
       "        text-align: right;\n",
       "    }\n",
       "</style>\n",
       "<table border=\"1\" class=\"dataframe\">\n",
       "  <thead>\n",
       "    <tr style=\"text-align: right;\">\n",
       "      <th></th>\n",
       "      <th>ghi</th>\n",
       "      <th>dni</th>\n",
       "      <th>dhi</th>\n",
       "      <th>cache_key</th>\n",
       "    </tr>\n",
       "  </thead>\n",
       "  <tbody>\n",
       "    <tr>\n",
       "      <th>2015-01-04 19:15:00</th>\n",
       "      <td>414.271049</td>\n",
       "      <td>888.371118</td>\n",
       "      <td>41.593834</td>\n",
       "      <td>40.0519;-88.3731;230.00;2015-01-04 19:15:00</td>\n",
       "    </tr>\n",
       "    <tr>\n",
       "      <th>2012-04-20 12:15:00</th>\n",
       "      <td>125.895108</td>\n",
       "      <td>401.583391</td>\n",
       "      <td>42.992043</td>\n",
       "      <td>40.0519;-88.3731;230.00;2012-04-20 12:15:00</td>\n",
       "    </tr>\n",
       "    <tr>\n",
       "      <th>2011-12-08 07:00:00</th>\n",
       "      <td>0.000000</td>\n",
       "      <td>0.000000</td>\n",
       "      <td>0.000000</td>\n",
       "      <td>40.0519;-88.3731;230.00;2011-12-08 07:00:00</td>\n",
       "    </tr>\n",
       "    <tr>\n",
       "      <th>2011-11-06 04:00:00</th>\n",
       "      <td>0.000000</td>\n",
       "      <td>0.000000</td>\n",
       "      <td>0.000000</td>\n",
       "      <td>40.0519;-88.3731;230.00;2011-11-06 04:00:00</td>\n",
       "    </tr>\n",
       "    <tr>\n",
       "      <th>2014-08-11 08:45:00</th>\n",
       "      <td>0.000000</td>\n",
       "      <td>0.000000</td>\n",
       "      <td>0.000000</td>\n",
       "      <td>40.0519;-88.3731;230.00;2014-08-11 08:45:00</td>\n",
       "    </tr>\n",
       "    <tr>\n",
       "      <th>...</th>\n",
       "      <td>...</td>\n",
       "      <td>...</td>\n",
       "      <td>...</td>\n",
       "      <td>...</td>\n",
       "    </tr>\n",
       "    <tr>\n",
       "      <th>2012-01-10 22:30:00</th>\n",
       "      <td>8.175275</td>\n",
       "      <td>135.482600</td>\n",
       "      <td>2.906130</td>\n",
       "      <td>40.0519;-88.3731;230.00;2012-01-10 22:30:00</td>\n",
       "    </tr>\n",
       "    <tr>\n",
       "      <th>2012-06-28 20:15:00</th>\n",
       "      <td>790.371997</td>\n",
       "      <td>783.758460</td>\n",
       "      <td>137.179204</td>\n",
       "      <td>40.0519;-88.3731;230.00;2012-06-28 20:15:00</td>\n",
       "    </tr>\n",
       "    <tr>\n",
       "      <th>2014-07-10 00:15:00</th>\n",
       "      <td>98.633557</td>\n",
       "      <td>277.914910</td>\n",
       "      <td>44.418208</td>\n",
       "      <td>40.0519;-88.3731;230.00;2014-07-10 00:15:00</td>\n",
       "    </tr>\n",
       "    <tr>\n",
       "      <th>2010-02-24 08:00:00</th>\n",
       "      <td>0.000000</td>\n",
       "      <td>0.000000</td>\n",
       "      <td>0.000000</td>\n",
       "      <td>40.0519;-88.3731;230.00;2010-02-24 08:00:00</td>\n",
       "    </tr>\n",
       "    <tr>\n",
       "      <th>2010-12-26 03:15:00</th>\n",
       "      <td>0.000000</td>\n",
       "      <td>0.000000</td>\n",
       "      <td>0.000000</td>\n",
       "      <td>40.0519;-88.3731;230.00;2010-12-26 03:15:00</td>\n",
       "    </tr>\n",
       "  </tbody>\n",
       "</table>\n",
       "<p>189302 rows × 4 columns</p>\n",
       "</div>"
      ],
      "text/plain": [
       "                            ghi         dni         dhi  \\\n",
       "2015-01-04 19:15:00  414.271049  888.371118   41.593834   \n",
       "2012-04-20 12:15:00  125.895108  401.583391   42.992043   \n",
       "2011-12-08 07:00:00    0.000000    0.000000    0.000000   \n",
       "2011-11-06 04:00:00    0.000000    0.000000    0.000000   \n",
       "2014-08-11 08:45:00    0.000000    0.000000    0.000000   \n",
       "...                         ...         ...         ...   \n",
       "2012-01-10 22:30:00    8.175275  135.482600    2.906130   \n",
       "2012-06-28 20:15:00  790.371997  783.758460  137.179204   \n",
       "2014-07-10 00:15:00   98.633557  277.914910   44.418208   \n",
       "2010-02-24 08:00:00    0.000000    0.000000    0.000000   \n",
       "2010-12-26 03:15:00    0.000000    0.000000    0.000000   \n",
       "\n",
       "                                                       cache_key  \n",
       "2015-01-04 19:15:00  40.0519;-88.3731;230.00;2015-01-04 19:15:00  \n",
       "2012-04-20 12:15:00  40.0519;-88.3731;230.00;2012-04-20 12:15:00  \n",
       "2011-12-08 07:00:00  40.0519;-88.3731;230.00;2011-12-08 07:00:00  \n",
       "2011-11-06 04:00:00  40.0519;-88.3731;230.00;2011-11-06 04:00:00  \n",
       "2014-08-11 08:45:00  40.0519;-88.3731;230.00;2014-08-11 08:45:00  \n",
       "...                                                          ...  \n",
       "2012-01-10 22:30:00  40.0519;-88.3731;230.00;2012-01-10 22:30:00  \n",
       "2012-06-28 20:15:00  40.0519;-88.3731;230.00;2012-06-28 20:15:00  \n",
       "2014-07-10 00:15:00  40.0519;-88.3731;230.00;2014-07-10 00:15:00  \n",
       "2010-02-24 08:00:00  40.0519;-88.3731;230.00;2010-02-24 08:00:00  \n",
       "2010-12-26 03:15:00  40.0519;-88.3731;230.00;2010-12-26 03:15:00  \n",
       "\n",
       "[189302 rows x 4 columns]"
      ]
     },
     "execution_count": 55,
     "metadata": {},
     "output_type": "execute_result"
    }
   ],
   "source": [
    "clearsky_values"
   ]
  },
  {
   "cell_type": "code",
   "execution_count": 56,
   "metadata": {},
   "outputs": [
    {
     "data": {
      "text/plain": [
       "414.27104917594124"
      ]
     },
     "execution_count": 56,
     "metadata": {},
     "output_type": "execute_result"
    }
   ],
   "source": [
    "cache[\"40.0519;-88.3731;230.00;2015-01-04 19:15:00\"]"
   ]
  },
  {
   "cell_type": "code",
   "execution_count": null,
   "metadata": {},
   "outputs": [],
   "source": []
  }
 ],
 "metadata": {
  "kernelspec": {
   "display_name": "Python 3",
   "language": "python",
   "name": "python3"
  }
 },
 "nbformat": 4,
 "nbformat_minor": 2
}
