{
 "cells": [
  {
   "cell_type": "markdown",
   "metadata": {},
   "source": [
    "## Paramètres propres à mon PC, à changer chez vous"
   ]
  },
  {
   "cell_type": "code",
   "execution_count": 25,
   "metadata": {},
   "outputs": [
    {
     "name": "stdout",
     "output_type": "stream",
     "text": [
      "/home/raphael/MILA/ift6759/Solar-Irradiance-Prediction\n"
     ]
    },
    {
     "data": {
      "text/plain": [
       "'/home/raphael/MILA/ift6759/Solar-Irradiance-Prediction'"
      ]
     },
     "execution_count": 25,
     "metadata": {},
     "output_type": "execute_result"
    }
   ],
   "source": [
    "%cd /home/raphael/MILA/ift6759/Solar-Irradiance-Prediction\n",
    "# Il faut utiliser CD pour s'assurer de rouler dans la racine i.e. '/home/raphael/MILA/ift6759/Solar-Irradiance-Prediction'\n",
    "%pwd "
   ]
  },
  {
   "cell_type": "markdown",
   "metadata": {},
   "source": [
    "Code générique pour n'importe qui"
   ]
  },
  {
   "cell_type": "code",
   "execution_count": 28,
   "metadata": {},
   "outputs": [],
   "source": [
    "\n",
    "#%cd   #change to the dir you want \n",
    "from src.data import dataloader as dl\n",
    "from src.data import metadata as meta\n",
    "from src.data import config\n",
    "from src.data import image\n",
    "import logging\n",
    "\n",
    "bnd_coordinates  = meta.Coordinates(40.05192, -88.37309, 230)\n",
    "logging.basicConfig(level=logging.ERROR)"
   ]
  },
  {
   "cell_type": "code",
   "execution_count": 29,
   "metadata": {},
   "outputs": [],
   "source": [
    "#Configuration pour rouler en local, à modifier de votre côté!\n",
    "la_config = {}\n",
    "la_config[\"LOCAL_PATH\"] = \"/home/raphael/MILA/ift6759/project1_data/hdf5v7_8bit/\"\n",
    "la_config[\"SKIP_MISSING\"] = True\n",
    "la_config[\"FEATURES\"] = [\"image\", \"target_ghi\", \"metadata\"]\n",
    "meta_config = config.read_configuration_file(\"tests/data/samples/train_config_raphael.json\") #Il faut ajuster les path ici!\n"
   ]
  },
  {
   "cell_type": "code",
   "execution_count": 30,
   "metadata": {},
   "outputs": [],
   "source": [
    "#Instanciation des objets requis\n",
    "metadataloader = meta.MetadataLoader(dataframe=meta_config.catalog)"
   ]
  },
  {
   "cell_type": "code",
   "execution_count": 31,
   "metadata": {},
   "outputs": [],
   "source": [
    "loaded_meta= metadata.load(meta.Station.BND,bnd_coordinates, target_datetimes=meta_config.target_datetimes, night_time=False, skip_missing=True)\n",
    "dataset = dl.create_dataset(metaloader, la_config)"
   ]
  },
  {
   "cell_type": "markdown",
   "metadata": {},
   "source": [
    "# Le caching, super efficace, en une ligne\n"
   ]
  },
  {
   "cell_type": "code",
   "execution_count": 32,
   "metadata": {},
   "outputs": [],
   "source": [
    "dataset = dataset.cache(filename=\"basic_loader\")"
   ]
  },
  {
   "cell_type": "markdown",
   "metadata": {},
   "source": [
    "Poutine pour mesurer le temps d'éxecution"
   ]
  },
  {
   "cell_type": "code",
   "execution_count": 41,
   "metadata": {},
   "outputs": [],
   "source": [
    "delta = np.zeros((len(metadata.catalog)+1,4))\n",
    "import time\n",
    "start_time = time.time()\n",
    "import cProfile"
   ]
  },
  {
   "cell_type": "markdown",
   "metadata": {},
   "source": [
    "Poutine pour afficher les images dans le notebook"
   ]
  },
  {
   "cell_type": "code",
   "execution_count": 42,
   "metadata": {},
   "outputs": [],
   "source": [
    "%matplotlib inline\n",
    "from IPython.display import clear_output"
   ]
  },
  {
   "cell_type": "code",
   "execution_count": 44,
   "metadata": {},
   "outputs": [
    {
     "data": {
      "image/png": "[encoded data removed]",
      "text/plain": [
       "<Figure size 432x288 with 1 Axes>"
      ]
     },
     "metadata": {
      "needs_background": "light"
     },
     "output_type": "display_data"
    },
    {
     "name": "stdout",
     "output_type": "stream",
     "text": [
      "--- 8.041808843612671 secondes (4894.79428888249 images par secondes)---\n"
     ]
    }
   ],
   "source": [
    "#Boucle principale. La première itération sera lente (20 IPS), mais après on va à 5000 IPS sur une machine décente.\n",
    "#(L'affichage réduit pas mal le nombre d'IPS)\n",
    "i=0\n",
    "start_time = time.time()\n",
    "for (sample, target, augmented_features) in dataset:\n",
    "    delta[i] = augmented_features[0:4].numpy() - target.numpy()\n",
    "    i=i+1\n",
    "    if(i%2000)==0: #On affiche une image sur 1000\n",
    "        clear_output(wait=True)\n",
    "        plt.imshow(sample.numpy().squeeze(), cmap='gray', vmin = 0, vmax = 255)\n",
    "        plt.show()\n",
    "        \n",
    "images_ok = i\n",
    "temps = time.time() - start_time\n",
    "print(\"--- %s secondes (%s images par secondes)---\" % (temps, images_ok/temps))\n"
   ]
  }
 ],
 "metadata": {
  "kernelspec": {
   "display_name": "Python 3",
   "language": "python",
   "name": "python3"
  },
  "language_info": {
   "codemirror_mode": {
    "name": "ipython",
    "version": 3
   },
   "file_extension": ".py",
   "mimetype": "text/x-python",
   "name": "python",
   "nbconvert_exporter": "python",
   "pygments_lexer": "ipython3",
   "version": "3.7.6"
  }
 },
 "nbformat": 4,
 "nbformat_minor": 2
}
