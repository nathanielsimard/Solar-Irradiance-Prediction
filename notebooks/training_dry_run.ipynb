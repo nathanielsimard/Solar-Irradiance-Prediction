{
 "cells": [
  {
   "cell_type": "code",
   "execution_count": 1,
   "metadata": {},
   "outputs": [
    {
     "name": "stdout",
     "output_type": "stream",
     "text": [
      "/home/raphael/MILA/ift6759/Solar-Irradiance-Prediction\n"
     ]
    },
    {
     "data": {
      "text/plain": [
       "'/home/raphael/MILA/ift6759/Solar-Irradiance-Prediction'"
      ]
     },
     "execution_count": 1,
     "metadata": {},
     "output_type": "execute_result"
    }
   ],
   "source": [
    "%cd /home/raphael/MILA/ift6759/Solar-Irradiance-Prediction\n",
    "# Il faut utiliser CD pour s'assurer de rouler dans la racine i.e. '/home/raphael/MILA/ift6759/Solar-Irradiance-Prediction'\n",
    "%pwd "
   ]
  },
  {
   "cell_type": "markdown",
   "metadata": {},
   "source": [
    "Il va falloir ajuster ça ici."
   ]
  },
  {
   "cell_type": "code",
   "execution_count": 2,
   "metadata": {},
   "outputs": [],
   "source": [
    "\n",
    "#%cd   #change to the dir you want \n",
    "from src.data import dataloader as dl\n",
    "from src.data import metadata as meta\n",
    "from src.data import config\n",
    "from src.data import image\n",
    "import logging\n",
    "\n",
    "bnd_coordinates  = meta.Coordinates(40.05192, -88.37309, 230)\n",
    "logging.basicConfig(level=logging.ERROR)\n",
    "\n",
    "meta_config = config.read_configuration_file(\"tests/data/samples/train_config_raphael.json\") #Il faut ajuster les path ici!\n",
    "\n",
    "metadata = meta.MetadataLoader(dataframe=meta_config.catalog)\n",
    "reader = image.ImageReader()\n",
    "config = {}\n",
    "config[\"LOCAL_PATH\"] = \"/home/raphael/MILA/ift6759/project1_data/hdf5v7_8bit/\"\n",
    "config[\"SKIP_MISSING\"] = True\n",
    "dataloader = dl.DataLoader(reader, config)\n",
    "metaloader= metadata.load(meta.Station.BND,bnd_coordinates, target_datetimes=meta_config.target_datetimes, night_time=False, skip_missing=True)\n",
    "dataset = dataloader.create_dataset(metaloader)"
   ]
  },
  {
   "cell_type": "code",
   "execution_count": 3,
   "metadata": {},
   "outputs": [
    {
     "data": {
      "text/plain": [
       "'(36.62373,-116.01947,1007)'"
      ]
     },
     "execution_count": 3,
     "metadata": {},
     "output_type": "execute_result"
    }
   ],
   "source": [
    "str(meta.Coordinates(36.62373, -116.01947, 1007))"
   ]
  },
  {
   "cell_type": "code",
   "execution_count": 4,
   "metadata": {},
   "outputs": [
    {
     "name": "stderr",
     "output_type": "stream",
     "text": [
      "/home/raphael/anaconda3/envs/ift6159-project1/lib/python3.7/site-packages/pandas/core/ops/__init__.py:1115: FutureWarning: elementwise comparison failed; returning scalar instead, but in the future will perform elementwise comparison\n",
      "  result = method(y)\n"
     ]
    },
    {
     "name": "stdout",
     "output_type": "stream",
     "text": [
      "tf.Tensor([172.95334  181.44      23.893333   0.      ], shape=(4,), dtype=float32)\n"
     ]
    },
    {
     "data": {
      "image/png": "[encoded data removed]",
      "text/plain": [
       "<Figure size 432x288 with 1 Axes>"
      ]
     },
     "metadata": {
      "needs_background": "light"
     },
     "output_type": "display_data"
    }
   ],
   "source": [
    "import matplotlib.pyplot as plt\n",
    "import matplotlib.image as mpimg\n",
    "import numpy as np\n",
    "for (sample, target) in dataset:\n",
    "    print (target)\n",
    "    plt.imshow(sample.numpy().squeeze(), cmap='gray', vmin = 0, vmax = 128)\n",
    "    break"
   ]
  },
  {
   "cell_type": "code",
   "execution_count": 5,
   "metadata": {},
   "outputs": [
    {
     "data": {
      "text/plain": [
       "210336"
      ]
     },
     "execution_count": 5,
     "metadata": {},
     "output_type": "execute_result"
    }
   ],
   "source": [
    "\n",
    "config[\"ENABLE_META\"] = True\n",
    "dataloader = dl.DataLoader(reader, config)\n",
    "metaloader= metadata.load(meta.Station.BND,bnd_coordinates, target_datetimes=meta_config.target_datetimes, night_time=False, skip_missing=True)\n",
    "dataset = dataloader.create_dataset(metaloader)\n",
    "len(metadata.catalog)"
   ]
  },
  {
   "cell_type": "code",
   "execution_count": 28,
   "metadata": {},
   "outputs": [
    {
     "name": "stdout",
     "output_type": "stream",
     "text": [
      "...................................................................................................................................................................................................................................................................................................................................................................................................................................................................................................................................................................................................................................................................................................................................................................................................--- 2351.436903476715 secondes (89.4499868097706 images par secondes)---\n"
     ]
    }
   ],
   "source": [
    "images=len(metadata.catalog)\n",
    "\n",
    "delta = np.zeros((len(metadata.catalog),4))\n",
    "import time\n",
    "start_time = time.time()\n",
    "import cProfile\n",
    "i=int(0)\n",
    "def read_dataset(dataset, images, delta, i):\n",
    "    for (sample, target, augmented_features) in dataset:\n",
    "        delta[i] = augmented_features[0:4].numpy() - target.numpy()\n",
    "        i=i+1\n",
    "        if i>=images:\n",
    "            plt.imshow(sample.numpy().squeeze(), cmap='gray', vmin = 0, vmax = 128)\n",
    "            return i\n",
    "        if(i%100)==0: print(\".\", end=\"\")\n",
    "    return i\n",
    "#cProfile.run(\"read_dataset(dataset, images)\")\n",
    "images_ok = read_dataset(dataset, images, delta, i)\n",
    "temps = time.time() - start_time\n",
    "print(\"--- %s secondes (%s images par secondes)---\" % (temps, images/temps))"
   ]
  },
  {
   "cell_type": "code",
   "execution_count": 31,
   "metadata": {},
   "outputs": [
    {
     "name": "stdout",
     "output_type": "stream",
     "text": [
      "237.47658544179782\n",
      "0.36668473299863075\n"
     ]
    }
   ],
   "source": [
    "print(np.sqrt((delta*delta).sum()/len(delta)))\n",
    "print(images_ok/images)"
   ]
  },
  {
   "cell_type": "code",
   "execution_count": 11,
   "metadata": {},
   "outputs": [],
   "source": [
    "train_timestamps = metadata.catalog.sample(frac=1).index[0:int(0.9*len(metadata.catalog))]\n",
    "train_timestamps_string = train_timestamps.strftime(\"%Y-%m-%d %H:%M:%S\").tolist()"
   ]
  },
  {
   "cell_type": "code",
   "execution_count": 12,
   "metadata": {},
   "outputs": [
    {
     "data": {
      "text/plain": [
       "ncdf_path            /project/cq-training-1/project1/data/netcdf/GO...\n",
       "hdf5_8bit_path       /project/cq-training-1/project1/data/hdf5v7_8b...\n",
       "hdf5_8bit_offset                                                    60\n",
       "hdf5_16bit_path      /project/cq-training-1/project1/data/hdf5v5_16...\n",
       "hdf5_16bit_offset                                                   60\n",
       "BND_DAYTIME                                                          0\n",
       "BND_CLEARSKY_GHI                                                     0\n",
       "BND_CLOUDINESS                                                   night\n",
       "BND_GHI                                                          -2.32\n",
       "TBL_DAYTIME                                                          1\n",
       "TBL_CLEARSKY_GHI                                               55.6232\n",
       "TBL_CLOUDINESS                                         slightly cloudy\n",
       "TBL_GHI                                                        70.4067\n",
       "DRA_DAYTIME                                                          1\n",
       "DRA_CLEARSKY_GHI                                               222.764\n",
       "DRA_CLOUDINESS                                                   clear\n",
       "DRA_GHI                                                         241.12\n",
       "FPK_DAYTIME                                                          1\n",
       "FPK_CLEARSKY_GHI                                               4.33195\n",
       "FPK_CLOUDINESS                                                variable\n",
       "FPK_GHI                                                          14.76\n",
       "GWN_DAYTIME                                                          0\n",
       "GWN_CLEARSKY_GHI                                                     0\n",
       "GWN_CLOUDINESS                                                   night\n",
       "GWN_GHI                                                        2.85333\n",
       "PSU_DAYTIME                                                          0\n",
       "PSU_CLEARSKY_GHI                                                     0\n",
       "PSU_CLOUDINESS                                                   night\n",
       "PSU_GHI                                                       -2.89333\n",
       "SXF_DAYTIME                                                          0\n",
       "SXF_CLEARSKY_GHI                                                     0\n",
       "SXF_CLOUDINESS                                                   night\n",
       "SXF_GHI                                                           1.24\n",
       "Name: 2013-11-19 23:00:00, dtype: object"
      ]
     },
     "execution_count": 12,
     "metadata": {},
     "output_type": "execute_result"
    }
   ],
   "source": [
    "import pandas as pd\n",
    "metadata.catalog.loc[pd.Timestamp(\"2013-11-19 23:00:00\")]"
   ]
  },
  {
   "cell_type": "code",
   "execution_count": 7,
   "metadata": {},
   "outputs": [],
   "source": [
    "validation_timestamps = metadata.catalog.sample(frac=1).index[int(0.9*len(metadata.catalog)):]\n",
    "validation_timestamps_string = validation_timestamps.strftime(\"%Y-%m-%d %H:%M:%S\").tolist()"
   ]
  },
  {
   "cell_type": "code",
   "execution_count": 8,
   "metadata": {},
   "outputs": [],
   "source": [
    "train_start_bound = train_timestamps.min().strftime(\"%Y-%m-%d %H:%M:%S\")\n",
    "train_end_bound = train_timestamps.max().strftime(\"%Y-%m-%d %H:%M:%S\")"
   ]
  },
  {
   "cell_type": "code",
   "execution_count": 9,
   "metadata": {
    "scrolled": true
   },
   "outputs": [],
   "source": [
    "validation_start_bound = validation_timestamps.min().strftime(\"%Y-%m-%d %H:%M:%S\")\n",
    "validation_end_bound = validation_timestamps.max().strftime(\"%Y-%m-%d %H:%M:%S\")"
   ]
  },
  {
   "cell_type": "code",
   "execution_count": 10,
   "metadata": {},
   "outputs": [],
   "source": [
    "import json\n",
    "train_config_json = json.loads(\"\"\"\n",
    "\n",
    "{\n",
    "    \"dataframe_path\": \"tests/data/samples/catalog-test.pkl\",\n",
    "    \"start_bound\": \"2015-01-01\",\n",
    "    \"end_bound\": \"2016-01-01\",\n",
    "    \"stations\": {\n",
    "      \"BND\": [40.05192, -88.37309, 230],\n",
    "      \"TBL\": [40.12498, -105.23680, 1689],\n",
    "      \"DRA\": [36.62373, -116.01947, 1007],\n",
    "      \"FPK\": [48.30783, -105.10170, 634],\n",
    "      \"GWN\": [34.25470, -89.87290, 98],\n",
    "      \"PSU\": [40.72012, -77.93085, 376],\n",
    "      \"SXF\": [43.73403, -96.62328, 473]\n",
    "    },\n",
    "    \"target_time_offsets\": [\n",
    "      \"P0DT0H0M0S\",\n",
    "      \"P0DT1H0M0S\",\n",
    "      \"P0DT3H0M0S\",\n",
    "      \"P0DT6H0M0S\"\n",
    "    ],\n",
    "    \"target_datetimes\":  [\"2010-06-19 22:15:00\", \"2012-03-24 12:00:00\",\n",
    "    \"2015-09-21 21:15:00\", \"2012-07-06 18:00:00\",\n",
    "    \"2014-07-13 00:00:00\", \"2010-08-31 20:45:00\",\n",
    "    \"2015-04-16 12:45:00\", \"2013-04-17 16:00:00\",\n",
    "    \"2012-08-15 00:00:00\", \"2010-11-14 19:15:00\",\n",
    "    \"2014-07-21 14:30:00\", \"2011-11-22 17:30:00\",\n",
    "    \"2010-08-15 23:00:00\", \"2010-05-11 19:00:00\",\n",
    "    \"2013-02-15 14:15:00\", \"2011-02-08 17:45:00\"]\n",
    "  }\n",
    "  \n",
    "\"\"\")"
   ]
  },
  {
   "cell_type": "code",
   "execution_count": 11,
   "metadata": {},
   "outputs": [],
   "source": [
    "train_config_json[\"start_bound\"] = train_start_bound\n",
    "train_config_json[\"end_bound\"] = train_end_bound\n",
    "train_config_json[\"target_datetimes\"] = train_timestamps_string"
   ]
  },
  {
   "cell_type": "code",
   "execution_count": 12,
   "metadata": {},
   "outputs": [],
   "source": [
    "with open('train_config.json', 'w') as outfile:\n",
    "    json.dump(train_config_json, outfile)"
   ]
  },
  {
   "cell_type": "code",
   "execution_count": 13,
   "metadata": {},
   "outputs": [],
   "source": [
    "validation_config_json = train_config_json\n",
    "validation_config_json[\"start_bound\"] = validation_start_bound\n",
    "validation_config_json[\"end_bound\"] = validation_end_bound\n",
    "validation_config_json[\"target_datetimes\"] = validation_timestamps_string\n",
    "with open('validation_config.json', 'w') as outfile:\n",
    "    json.dump(train_config_json, outfile)\n"
   ]
  },
  {
   "cell_type": "code",
   "execution_count": null,
   "metadata": {},
   "outputs": [],
   "source": []
  }
 ],
 "metadata": {
  "kernelspec": {
   "display_name": "Python 3",
   "language": "python",
   "name": "python3"
  },
  "language_info": {
   "codemirror_mode": {
    "name": "ipython",
    "version": 3
   },
   "file_extension": ".py",
   "mimetype": "text/x-python",
   "name": "python",
   "nbconvert_exporter": "python",
   "pygments_lexer": "ipython3",
   "version": "3.7.6"
  }
 },
 "nbformat": 4,
 "nbformat_minor": 2
}
