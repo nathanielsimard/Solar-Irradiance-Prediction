{
 "cells": [
  {
   "cell_type": "code",
   "execution_count": 1,
   "metadata": {},
   "outputs": [
    {
     "data": {
      "text/plain": [
       "'/home/raphael/MILA/ift6759/Solar-Irradiance-Prediction'"
      ]
     },
     "execution_count": 1,
     "metadata": {},
     "output_type": "execute_result"
    }
   ],
   "source": [
    "%pwd  #look at the current work dir"
   ]
  },
  {
   "cell_type": "code",
   "execution_count": null,
   "metadata": {},
   "outputs": [
    {
     "name": "stderr",
     "output_type": "stream",
     "text": [
      "/home/raphael/anaconda3/envs/ift6159-project1/lib/python3.7/site-packages/pandas/core/ops/__init__.py:1115: FutureWarning: elementwise comparison failed; returning scalar instead, but in the future will perform elementwise comparison\n",
      "  result = method(y)\n"
     ]
    }
   ],
   "source": [
    "\n",
    "#%cd   #change to the dir you want \n",
    "from src.data import dataloader as dl\n",
    "from src.data import metadata as meta\n",
    "metadata = meta.MetadataLoader(file_name=\"/home/raphael/MILA/ift6759/project1_data/catalog.helios.public.20100101-20160101.pkl\")\n",
    "reader = dl.ImageReader()\n",
    "config = {}\n",
    "config[\"LOCAL_PATH\"] = \"/home/raphael/MILA/ift6759/project1_data/hdf5v7_8bit/\"\n",
    "config[\"SKIP_MISSING\"] = True\n",
    "dataloader = dl.DataLoader(reader, config)\n",
    "metaloader= metadata.load(meta.Station.BND,[36.62373, -116.01947, 1007])\n",
    "dataset = dataloader.create_dataset(metaloader)\n",
    "for sample in dataset:\n",
    "    print (sample)\n",
    "    break\n"
   ]
  },
  {
   "cell_type": "code",
   "execution_count": null,
   "metadata": {},
   "outputs": [],
   "source": []
  }
 ],
 "metadata": {
  "kernelspec": {
   "display_name": "Python 3",
   "language": "python",
   "name": "python3"
  },
  "language_info": {
   "codemirror_mode": {
    "name": "ipython",
    "version": 3
   },
   "file_extension": ".py",
   "mimetype": "text/x-python",
   "name": "python",
   "nbconvert_exporter": "python",
   "pygments_lexer": "ipython3",
   "version": "3.7.6"
  }
 },
 "nbformat": 4,
 "nbformat_minor": 2
}
